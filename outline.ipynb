{
 "cells": [
  {
   "cell_type": "markdown",
   "id": "sticky-australia",
   "metadata": {},
   "source": [
    "# 1. The Ladder of Causation\n",
    "\n",
    "- 2pts: [Granger in Econometrica](http://www.econ.uiuc.edu/~econ536/Papers/granger69.pdf) cited 25k times, written  by the 2003 econ nobel laureate - find 2 cases of misused vocabulary that seem stupid after reading the first chapter\n",
    "- 2pts: [Kertesi Kézdi AER](http://scholar.ceu.edu/sites/default/files/publications/kertesikezdi2011testscoregapaer1013.pdf) lots of causal talk, no drawings - draw causal diagrams, evaluate the consistency of the authors\n",
    "- 1pt: [AI state of the art whining 2017](https://arxiv.org/pdf/1707.04327.pdf) - summarize\n",
    "- 1pt: ceteris paribus\n",
    "- 1pt: poker / chess / go"
   ]
  },
  {
   "cell_type": "markdown",
   "id": "unauthorized-creek",
   "metadata": {},
   "source": [
    "# 2. From Buccaneers to Guinea Pigs: The Genesis of Causal Inference\n",
    "\n",
    "- 3pts: Niles Letters [1](https://www.ncbi.nlm.nih.gov/pmc/articles/PMC1200533/pdf/258.pdf) and [2](https://www.ncbi.nlm.nih.gov/pmc/articles/PMC1200748/pdf/256.pdf) - find 2 assertions to criticize\n",
    "- 2pts: [David Freedman whining](https://psychology.okstate.edu/faculty/jgrice/psyc5314/Freedman_1991A.pdf) 300-304 (chapter 4 and 5) - summarize and present\n",
    "- 1pt: find a quick and clever way to demonstrate differences between Bayesian and frequentist approaches\n",
    "\n"
   ]
  },
  {
   "cell_type": "markdown",
   "id": "theoretical-square",
   "metadata": {},
   "source": [
    "# 3. From Evidence to Causes: Reverend Bayes Meets Mr. Holmes\n",
    "\n",
    "- 3pts: derive the plane - bag carousel solution\n",
    "- 2pts: explain one of the examples from [this](https://github.com/MaxHalford/hedgehog) educational repo, (demo app [here](https://hedgehog-demo.herokuapp.com/) )"
   ]
  },
  {
   "cell_type": "markdown",
   "id": "protected-caribbean",
   "metadata": {},
   "source": [
    "# 4. Confounding and Deconfounding: or, Slaying the Lurking Variable\n",
    "\n",
    "- 2pts: [Smoking -> asthma](https://onlinelibrary.wiley.com/doi/pdfdirect/10.1111/resp.12238) summarize and present\n",
    "- 2pts: [Use of Causal Diagrams to Inform the Design and Interpretation of Observational Studies: An Examplefrom the Study of Heart and Renal Protection (SHARP)](https://cjasn.asnjournals.org/content/clinjasn/12/3/546.full.pdf) summarize and present"
   ]
  },
  {
   "cell_type": "markdown",
   "id": "floppy-imagination",
   "metadata": {},
   "source": [
    "# 5. The Smoke-Filled Debate: Clearing the Air\n",
    "\n",
    "- 3pts: [case-control study](http://www.medicine.mcgill.ca/epidemiology/hanley/c681/case_control/breslow_cc_study_96_hi_res.pdf)\n",
    "- 1pt: Cornfield's Inequality - outline and describe\n",
    "- 2pts: [A Sensitivity Analysis of Cross-Country Growth Regressions](https://legacy.fordham.edu/economics/mcleod/Levine%20and%20Renelt%201992.pdf) - describe how this paper does sensitivity analysis\n",
    "- 2pts: [The spurious relationship between ecstasy use and neurocognitive deficits: A Bradford Hill review](http://website60s.com/upload/files/382_2.pdf) - summarize and present"
   ]
  },
  {
   "cell_type": "markdown",
   "id": "bearing-sunday",
   "metadata": {},
   "source": [
    "# 6. Paradoxes Galore!\n",
    "\n",
    "- 1pt / paradox: create an explanation for a paradox, at most 200 characters describing the paradox, 500 characters resolving it:\n",
    "  - Simpsons paradox\n",
    "  - Monty Hall problem\n",
    "  - Lord's Paradox\n",
    "\n",
    "- 2 pts: [Handbook of Statistics 26 - Psychometrics](https://www.gwern.net/docs/statistics/bayes/2006-wainer.pdf) - present and summarize chapter 4, Kelley's paradox"
   ]
  },
  {
   "cell_type": "markdown",
   "id": "naval-zambia",
   "metadata": {},
   "source": [
    "# 7. Beyond Adjustment: The Conquest Of Mount Intervention\n",
    "\n",
    "\n",
    "## 7.1\n",
    "\n",
    "- 3pts: [Front-door Difference-in-Differences Estimators](https://scholar.harvard.edu/files/aglynn/files/fddid_0.pdf) pages 15 - 22 JTPA example - extensive summary and presentation (+ [Supplement](https://konstantinkashin.com/assets/research/frontdoor-suppA.pdf) if needed)\n",
    "\n",
    "\n",
    "## 7.2 The Do-Calculus, or Mind Over Matter\n",
    "\n",
    "- 2pts: [do-calculus explanation paper](https://arxiv.org/pdf/1305.5506.pdf) summarize and explain what this adds to the chapter\n",
    "- 2pts: go over figure 7.4 in detail\n",
    "- 3pts: [do-calculus completeness proof](https://arxiv.org/pdf/1206.6876.pdf)\n",
    "- 2pts: [d-separation](http://web.mit.edu/jmn/www/6.034/d-separation.pdf) - select 2 or 3 tasks from the end and present the concept using those\n",
    "\n",
    "\n",
    "## 7.3 The Curious Case(s) Of Dr. Snow\n",
    "\n",
    "- 3pts: [Acemoglu Johnson Robinson 2001](https://www.nber.org/system/files/working_papers/w7771/w7771.pdf) chapter 6.3 overidentification test explanation + causal diagrams."
   ]
  },
  {
   "cell_type": "markdown",
   "id": "phantom-design",
   "metadata": {},
   "source": [
    "# 8. Counterfactuals: Mining Worlds That Could Have Been\n",
    "\n",
    "- 3pts: [Rubin R. A. Fisher Memorial Lecture (lol)](https://5harad.com/mse331/papers/rubin_causal_inference.pdf) summarize and present, especially how he attempts to redeem FIsher\n",
    "- 2pts: [Ignorability by Heitjan and Rubin in Annals of Statistics 1991](https://projecteuclid.org/download/pdf_1/euclid.aos/1176348396) - explain the concept"
   ]
  },
  {
   "cell_type": "markdown",
   "id": "inner-speaker",
   "metadata": {},
   "source": [
    "# 9. Mediation: The Search For A Mechanism\n",
    "\n",
    "- 3pts: Discrimination data generation notebook task"
   ]
  },
  {
   "cell_type": "markdown",
   "id": "established-letter",
   "metadata": {},
   "source": [
    "# 10. Big Data, Artificial Intelligence, and the Big Questions\n",
    "\n",
    "- 2pts: present a quick tutorial of [this](https://github.com/microsoft/dowhy) package\n"
   ]
  },
  {
   "cell_type": "markdown",
   "id": "practical-sentence",
   "metadata": {},
   "source": [
    "\n",
    "# ++\n",
    "\n",
    "- [Distortion of effects caused by indirect confounding](https://citeseerx.ist.psu.edu/viewdoc/download?doi=10.1.1.950.6892&rep=rep1&type=pdf)\n",
    "- [A General Identification Condition for Causal Effects](http://citeseerx.ist.psu.edu/viewdoc/download?doi=10.1.1.118.8981&rep=rep1&type=pdf)\n"
   ]
  }
 ],
 "metadata": {
  "kernelspec": {
   "display_name": "Python 3",
   "language": "python",
   "name": "python3"
  },
  "language_info": {
   "codemirror_mode": {
    "name": "ipython",
    "version": 3
   },
   "file_extension": ".py",
   "mimetype": "text/x-python",
   "name": "python",
   "nbconvert_exporter": "python",
   "pygments_lexer": "ipython3",
   "version": "3.8.5"
  }
 },
 "nbformat": 4,
 "nbformat_minor": 5
}
