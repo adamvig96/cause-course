{
 "cells": [
  {
   "cell_type": "code",
   "execution_count": 1,
   "id": "molecular-iceland",
   "metadata": {},
   "outputs": [],
   "source": [
    "import numpy as np\n",
    "import pandas as pd"
   ]
  },
  {
   "cell_type": "code",
   "execution_count": 2,
   "id": "false-sense",
   "metadata": {},
   "outputs": [
    {
     "data": {
      "text/plain": [
       "array([1. , 0.9, 0.8, 0.7, 0.6, 0.5, 0.4, 0.3, 0.2, 0.1, 0. ])"
      ]
     },
     "execution_count": 2,
     "metadata": {},
     "output_type": "execute_result"
    }
   ],
   "source": [
    "no_bag_on_carousel_after_i_minutes_if_bag_on_plane = np.linspace(1, 0, 11)\n",
    "period_count = len(no_bag_on_carousel_after_i_minutes_if_bag_on_plane)\n",
    "no_bag_on_carousel_after_i_minutes_if_bag_on_plane"
   ]
  },
  {
   "cell_type": "markdown",
   "id": "covered-uganda",
   "metadata": {},
   "source": [
    "# Simulation"
   ]
  },
  {
   "cell_type": "code",
   "execution_count": 3,
   "id": "color-discipline",
   "metadata": {},
   "outputs": [],
   "source": [
    "def get_bag_appearances():\n",
    "    return no_bag_on_carousel_after_i_minutes_if_bag_on_plane < np.random.rand()"
   ]
  },
  {
   "cell_type": "code",
   "execution_count": 4,
   "id": "visible-valentine",
   "metadata": {},
   "outputs": [
    {
     "data": {
      "text/plain": [
       "array([False, False, False, False, False,  True,  True,  True,  True,\n",
       "        True,  True])"
      ]
     },
     "execution_count": 4,
     "metadata": {},
     "output_type": "execute_result"
    }
   ],
   "source": [
    "get_bag_appearances()"
   ]
  },
  {
   "cell_type": "code",
   "execution_count": 5,
   "id": "hollywood-vault",
   "metadata": {},
   "outputs": [
    {
     "data": {
      "text/plain": [
       "0     0.0000\n",
       "1     0.0984\n",
       "2     0.2004\n",
       "3     0.2980\n",
       "4     0.3964\n",
       "5     0.4928\n",
       "6     0.5990\n",
       "7     0.7008\n",
       "8     0.7998\n",
       "9     0.8958\n",
       "10    1.0000\n",
       "dtype: float64"
      ]
     },
     "execution_count": 5,
     "metadata": {},
     "output_type": "execute_result"
    }
   ],
   "source": [
    "pd.DataFrame([get_bag_appearances() for _ in range(5000)]).mean()"
   ]
  },
  {
   "cell_type": "code",
   "execution_count": 6,
   "id": "infectious-sharing",
   "metadata": {},
   "outputs": [],
   "source": [
    "def sim(p_of_bag_on_plane, n=5000):\n",
    "    records = []\n",
    "    for _ in range(n):\n",
    "        bag_on_plane = np.random.rand() < p_of_bag_on_plane\n",
    "        if bag_on_plane:\n",
    "            bag_appearances = get_bag_appearances()\n",
    "        else:\n",
    "            bag_appearances = [False] * period_count\n",
    "\n",
    "        records.append([bag_on_plane, *bag_appearances])\n",
    "    return pd.DataFrame(records, columns=[\"bag_on_plane\", *range(period_count)])"
   ]
  },
  {
   "cell_type": "code",
   "execution_count": 7,
   "id": "breathing-graphic",
   "metadata": {},
   "outputs": [],
   "source": [
    "sim_df = sim(0.5, 20_000)"
   ]
  },
  {
   "cell_type": "code",
   "execution_count": 8,
   "id": "measured-spray",
   "metadata": {},
   "outputs": [
    {
     "data": {
      "text/html": [
       "<div>\n",
       "<style scoped>\n",
       "    .dataframe tbody tr th:only-of-type {\n",
       "        vertical-align: middle;\n",
       "    }\n",
       "\n",
       "    .dataframe tbody tr th {\n",
       "        vertical-align: top;\n",
       "    }\n",
       "\n",
       "    .dataframe thead th {\n",
       "        text-align: right;\n",
       "    }\n",
       "</style>\n",
       "<table border=\"1\" class=\"dataframe\">\n",
       "  <thead>\n",
       "    <tr style=\"text-align: right;\">\n",
       "      <th></th>\n",
       "      <th>bag_on_plane</th>\n",
       "      <th>0</th>\n",
       "      <th>1</th>\n",
       "      <th>2</th>\n",
       "      <th>3</th>\n",
       "      <th>4</th>\n",
       "      <th>5</th>\n",
       "      <th>6</th>\n",
       "      <th>7</th>\n",
       "      <th>8</th>\n",
       "      <th>9</th>\n",
       "      <th>10</th>\n",
       "    </tr>\n",
       "  </thead>\n",
       "  <tbody>\n",
       "    <tr>\n",
       "      <th>0</th>\n",
       "      <td>True</td>\n",
       "      <td>False</td>\n",
       "      <td>False</td>\n",
       "      <td>False</td>\n",
       "      <td>False</td>\n",
       "      <td>False</td>\n",
       "      <td>False</td>\n",
       "      <td>False</td>\n",
       "      <td>False</td>\n",
       "      <td>False</td>\n",
       "      <td>False</td>\n",
       "      <td>True</td>\n",
       "    </tr>\n",
       "    <tr>\n",
       "      <th>1</th>\n",
       "      <td>True</td>\n",
       "      <td>False</td>\n",
       "      <td>True</td>\n",
       "      <td>True</td>\n",
       "      <td>True</td>\n",
       "      <td>True</td>\n",
       "      <td>True</td>\n",
       "      <td>True</td>\n",
       "      <td>True</td>\n",
       "      <td>True</td>\n",
       "      <td>True</td>\n",
       "      <td>True</td>\n",
       "    </tr>\n",
       "    <tr>\n",
       "      <th>2</th>\n",
       "      <td>True</td>\n",
       "      <td>False</td>\n",
       "      <td>False</td>\n",
       "      <td>False</td>\n",
       "      <td>False</td>\n",
       "      <td>False</td>\n",
       "      <td>False</td>\n",
       "      <td>False</td>\n",
       "      <td>False</td>\n",
       "      <td>True</td>\n",
       "      <td>True</td>\n",
       "      <td>True</td>\n",
       "    </tr>\n",
       "    <tr>\n",
       "      <th>3</th>\n",
       "      <td>False</td>\n",
       "      <td>False</td>\n",
       "      <td>False</td>\n",
       "      <td>False</td>\n",
       "      <td>False</td>\n",
       "      <td>False</td>\n",
       "      <td>False</td>\n",
       "      <td>False</td>\n",
       "      <td>False</td>\n",
       "      <td>False</td>\n",
       "      <td>False</td>\n",
       "      <td>False</td>\n",
       "    </tr>\n",
       "    <tr>\n",
       "      <th>4</th>\n",
       "      <td>False</td>\n",
       "      <td>False</td>\n",
       "      <td>False</td>\n",
       "      <td>False</td>\n",
       "      <td>False</td>\n",
       "      <td>False</td>\n",
       "      <td>False</td>\n",
       "      <td>False</td>\n",
       "      <td>False</td>\n",
       "      <td>False</td>\n",
       "      <td>False</td>\n",
       "      <td>False</td>\n",
       "    </tr>\n",
       "    <tr>\n",
       "      <th>...</th>\n",
       "      <td>...</td>\n",
       "      <td>...</td>\n",
       "      <td>...</td>\n",
       "      <td>...</td>\n",
       "      <td>...</td>\n",
       "      <td>...</td>\n",
       "      <td>...</td>\n",
       "      <td>...</td>\n",
       "      <td>...</td>\n",
       "      <td>...</td>\n",
       "      <td>...</td>\n",
       "      <td>...</td>\n",
       "    </tr>\n",
       "    <tr>\n",
       "      <th>19995</th>\n",
       "      <td>True</td>\n",
       "      <td>False</td>\n",
       "      <td>False</td>\n",
       "      <td>False</td>\n",
       "      <td>False</td>\n",
       "      <td>False</td>\n",
       "      <td>True</td>\n",
       "      <td>True</td>\n",
       "      <td>True</td>\n",
       "      <td>True</td>\n",
       "      <td>True</td>\n",
       "      <td>True</td>\n",
       "    </tr>\n",
       "    <tr>\n",
       "      <th>19996</th>\n",
       "      <td>True</td>\n",
       "      <td>False</td>\n",
       "      <td>True</td>\n",
       "      <td>True</td>\n",
       "      <td>True</td>\n",
       "      <td>True</td>\n",
       "      <td>True</td>\n",
       "      <td>True</td>\n",
       "      <td>True</td>\n",
       "      <td>True</td>\n",
       "      <td>True</td>\n",
       "      <td>True</td>\n",
       "    </tr>\n",
       "    <tr>\n",
       "      <th>19997</th>\n",
       "      <td>True</td>\n",
       "      <td>False</td>\n",
       "      <td>False</td>\n",
       "      <td>False</td>\n",
       "      <td>False</td>\n",
       "      <td>False</td>\n",
       "      <td>False</td>\n",
       "      <td>False</td>\n",
       "      <td>False</td>\n",
       "      <td>False</td>\n",
       "      <td>True</td>\n",
       "      <td>True</td>\n",
       "    </tr>\n",
       "    <tr>\n",
       "      <th>19998</th>\n",
       "      <td>False</td>\n",
       "      <td>False</td>\n",
       "      <td>False</td>\n",
       "      <td>False</td>\n",
       "      <td>False</td>\n",
       "      <td>False</td>\n",
       "      <td>False</td>\n",
       "      <td>False</td>\n",
       "      <td>False</td>\n",
       "      <td>False</td>\n",
       "      <td>False</td>\n",
       "      <td>False</td>\n",
       "    </tr>\n",
       "    <tr>\n",
       "      <th>19999</th>\n",
       "      <td>False</td>\n",
       "      <td>False</td>\n",
       "      <td>False</td>\n",
       "      <td>False</td>\n",
       "      <td>False</td>\n",
       "      <td>False</td>\n",
       "      <td>False</td>\n",
       "      <td>False</td>\n",
       "      <td>False</td>\n",
       "      <td>False</td>\n",
       "      <td>False</td>\n",
       "      <td>False</td>\n",
       "    </tr>\n",
       "  </tbody>\n",
       "</table>\n",
       "<p>20000 rows × 12 columns</p>\n",
       "</div>"
      ],
      "text/plain": [
       "       bag_on_plane      0      1      2      3      4      5      6      7  \\\n",
       "0              True  False  False  False  False  False  False  False  False   \n",
       "1              True  False   True   True   True   True   True   True   True   \n",
       "2              True  False  False  False  False  False  False  False  False   \n",
       "3             False  False  False  False  False  False  False  False  False   \n",
       "4             False  False  False  False  False  False  False  False  False   \n",
       "...             ...    ...    ...    ...    ...    ...    ...    ...    ...   \n",
       "19995          True  False  False  False  False  False   True   True   True   \n",
       "19996          True  False   True   True   True   True   True   True   True   \n",
       "19997          True  False  False  False  False  False  False  False  False   \n",
       "19998         False  False  False  False  False  False  False  False  False   \n",
       "19999         False  False  False  False  False  False  False  False  False   \n",
       "\n",
       "           8      9     10  \n",
       "0      False  False   True  \n",
       "1       True   True   True  \n",
       "2       True   True   True  \n",
       "3      False  False  False  \n",
       "4      False  False  False  \n",
       "...      ...    ...    ...  \n",
       "19995   True   True   True  \n",
       "19996   True   True   True  \n",
       "19997  False   True   True  \n",
       "19998  False  False  False  \n",
       "19999  False  False  False  \n",
       "\n",
       "[20000 rows x 12 columns]"
      ]
     },
     "execution_count": 8,
     "metadata": {},
     "output_type": "execute_result"
    }
   ],
   "source": [
    "sim_df"
   ]
  },
  {
   "cell_type": "code",
   "execution_count": 9,
   "id": "corrected-departure",
   "metadata": {},
   "outputs": [
    {
     "data": {
      "text/plain": [
       "<AxesSubplot:>"
      ]
     },
     "execution_count": 9,
     "metadata": {},
     "output_type": "execute_result"
    },
    {
     "data": {
      "image/png": "[encoded data removed]",
      "text/plain": [
       "<Figure size 432x288 with 1 Axes>"
      ]
     },
     "metadata": {
      "needs_background": "light"
     },
     "output_type": "display_data"
    }
   ],
   "source": [
    "sim_df.mean().plot.bar()"
   ]
  },
  {
   "cell_type": "code",
   "execution_count": 10,
   "id": "rental-estimate",
   "metadata": {},
   "outputs": [
    {
     "data": {
      "text/html": [
       "<div>\n",
       "<style scoped>\n",
       "    .dataframe tbody tr th:only-of-type {\n",
       "        vertical-align: middle;\n",
       "    }\n",
       "\n",
       "    .dataframe tbody tr th {\n",
       "        vertical-align: top;\n",
       "    }\n",
       "\n",
       "    .dataframe thead th {\n",
       "        text-align: right;\n",
       "    }\n",
       "</style>\n",
       "<table border=\"1\" class=\"dataframe\">\n",
       "  <thead>\n",
       "    <tr style=\"text-align: right;\">\n",
       "      <th></th>\n",
       "      <th>0</th>\n",
       "      <th>1</th>\n",
       "      <th>2</th>\n",
       "      <th>3</th>\n",
       "      <th>4</th>\n",
       "      <th>5</th>\n",
       "      <th>6</th>\n",
       "      <th>7</th>\n",
       "      <th>8</th>\n",
       "      <th>9</th>\n",
       "      <th>10</th>\n",
       "    </tr>\n",
       "    <tr>\n",
       "      <th>bag_on_plane</th>\n",
       "      <th></th>\n",
       "      <th></th>\n",
       "      <th></th>\n",
       "      <th></th>\n",
       "      <th></th>\n",
       "      <th></th>\n",
       "      <th></th>\n",
       "      <th></th>\n",
       "      <th></th>\n",
       "      <th></th>\n",
       "      <th></th>\n",
       "    </tr>\n",
       "  </thead>\n",
       "  <tbody>\n",
       "    <tr>\n",
       "      <th>False</th>\n",
       "      <td>0.0</td>\n",
       "      <td>0.00000</td>\n",
       "      <td>0.00000</td>\n",
       "      <td>0.000000</td>\n",
       "      <td>0.000000</td>\n",
       "      <td>0.0</td>\n",
       "      <td>0.000000</td>\n",
       "      <td>0.000000</td>\n",
       "      <td>0.000000</td>\n",
       "      <td>0.000000</td>\n",
       "      <td>0.0</td>\n",
       "    </tr>\n",
       "    <tr>\n",
       "      <th>True</th>\n",
       "      <td>0.0</td>\n",
       "      <td>0.09766</td>\n",
       "      <td>0.20117</td>\n",
       "      <td>0.300218</td>\n",
       "      <td>0.398572</td>\n",
       "      <td>0.5</td>\n",
       "      <td>0.600635</td>\n",
       "      <td>0.696113</td>\n",
       "      <td>0.798037</td>\n",
       "      <td>0.901943</td>\n",
       "      <td>1.0</td>\n",
       "    </tr>\n",
       "  </tbody>\n",
       "</table>\n",
       "</div>"
      ],
      "text/plain": [
       "               0        1        2         3         4    5         6   \\\n",
       "bag_on_plane                                                             \n",
       "False         0.0  0.00000  0.00000  0.000000  0.000000  0.0  0.000000   \n",
       "True          0.0  0.09766  0.20117  0.300218  0.398572  0.5  0.600635   \n",
       "\n",
       "                    7         8         9    10  \n",
       "bag_on_plane                                     \n",
       "False         0.000000  0.000000  0.000000  0.0  \n",
       "True          0.696113  0.798037  0.901943  1.0  "
      ]
     },
     "execution_count": 10,
     "metadata": {},
     "output_type": "execute_result"
    }
   ],
   "source": [
    "sim_df.groupby(\"bag_on_plane\").mean()"
   ]
  },
  {
   "cell_type": "markdown",
   "id": "designing-defeat",
   "metadata": {},
   "source": [
    "## SImulation Results"
   ]
  },
  {
   "cell_type": "code",
   "execution_count": 11,
   "id": "reserved-seattle",
   "metadata": {},
   "outputs": [],
   "source": [
    "# sim_df.groupby(4).mean()"
   ]
  },
  {
   "cell_type": "code",
   "execution_count": 12,
   "id": "widespread-graph",
   "metadata": {},
   "outputs": [],
   "source": [
    "true_solution = pd.Series(\n",
    "    {\n",
    "        i: sim_df.groupby(i).mean().loc[False, \"bag_on_plane\"]\n",
    "        for i in range(period_count)\n",
    "    }\n",
    ")  # .plot()"
   ]
  },
  {
   "cell_type": "markdown",
   "id": "following-optimum",
   "metadata": {},
   "source": [
    "# Solution"
   ]
  },
  {
   "cell_type": "markdown",
   "id": "unnecessary-hands",
   "metadata": {},
   "source": [
    "$P(A\\mid B) = \\frac{P(B\\mid A)P(A)}{P(B)}$ "
   ]
  },
  {
   "cell_type": "markdown",
   "id": "plastic-forth",
   "metadata": {},
   "source": [
    "- A: bag on plane\n",
    "- B: x minutes passed without bag showing up"
   ]
  },
  {
   "cell_type": "code",
   "execution_count": 13,
   "id": "italic-recruitment",
   "metadata": {},
   "outputs": [],
   "source": [
    "def get_solution1(p_of_bag_on_plane = 0.5):\n",
    "    probs = []\n",
    "    for pba in no_bag_on_carousel_after_i_minutes_if_bag_on_plane:\n",
    "        pb = 1\n",
    "        next_p = pba * p_of_bag_on_plane / pb\n",
    "        probs.append(next_p)\n",
    "    return pd.Series(probs)"
   ]
  },
  {
   "cell_type": "code",
   "execution_count": 14,
   "id": "completed-focus",
   "metadata": {},
   "outputs": [],
   "source": [
    "def get_solution2(p_of_bag_on_plane = 0.5):\n",
    "    probs = []\n",
    "    for pba in no_bag_on_carousel_after_i_minutes_if_bag_on_plane:\n",
    "        pb = 1\n",
    "        next_p = pba * p_of_bag_on_plane / pb\n",
    "        probs.append(next_p)\n",
    "        p_of_bag_on_plane = next_p\n",
    "    return pd.Series(probs)"
   ]
  },
  {
   "cell_type": "code",
   "execution_count": 15,
   "id": "faced-completion",
   "metadata": {},
   "outputs": [],
   "source": [
    "def get_solution3(p_of_bag_on_plane = 0.5):\n",
    "    probs = []\n",
    "    for pba in no_bag_on_carousel_after_i_minutes_if_bag_on_plane:\n",
    "        pb = (1 - p_of_bag_on_plane) + pba\n",
    "        next_p = pba * p_of_bag_on_plane / pb\n",
    "        probs.append(next_p)\n",
    "        p_of_bag_on_plane = next_p\n",
    "    return pd.Series(probs)"
   ]
  },
  {
   "cell_type": "code",
   "execution_count": 16,
   "id": "ancient-error",
   "metadata": {},
   "outputs": [],
   "source": [
    "def get_solution4(p_of_bag_on_plane = 0.5):\n",
    "    probs = []\n",
    "    for pba in no_bag_on_carousel_after_i_minutes_if_bag_on_plane:\n",
    "        pb = (1 - p_of_bag_on_plane) + pba * p_of_bag_on_plane\n",
    "        next_p = pba * p_of_bag_on_plane / pb\n",
    "        probs.append(next_p)\n",
    "        p_of_bag_on_plane = next_p\n",
    "    return pd.Series(probs)"
   ]
  },
  {
   "cell_type": "code",
   "execution_count": 17,
   "id": "responsible-colony",
   "metadata": {},
   "outputs": [
    {
     "data": {
      "text/plain": [
       "<AxesSubplot:>"
      ]
     },
     "execution_count": 17,
     "metadata": {},
     "output_type": "execute_result"
    },
    {
     "data": {
      "image/png": "[encoded data removed]",
      "text/plain": [
       "<Figure size 432x288 with 1 Axes>"
      ]
     },
     "metadata": {
      "needs_background": "light"
     },
     "output_type": "display_data"
    }
   ],
   "source": [
    "pd.DataFrame({\n",
    "    \"solution1\": get_solution1(),\n",
    "    \"solution2\": get_solution2(),\n",
    "    \"solution3\": get_solution3(),\n",
    "    \"solution4\": get_solution4(),\n",
    "\n",
    "}).plot()"
   ]
  }
 ],
 "metadata": {
  "kernelspec": {
   "display_name": "Python 3",
   "language": "python",
   "name": "python3"
  },
  "language_info": {
   "codemirror_mode": {
    "name": "ipython",
    "version": 3
   },
   "file_extension": ".py",
   "mimetype": "text/x-python",
   "name": "python",
   "nbconvert_exporter": "python",
   "pygments_lexer": "ipython3",
   "version": "3.8.5"
  }
 },
 "nbformat": 4,
 "nbformat_minor": 5
}
